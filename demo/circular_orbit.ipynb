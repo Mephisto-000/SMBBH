{
 "cells": [
  {
   "cell_type": "markdown",
   "id": "3e38ceee-c053-4aaf-b6c4-beee34696954",
   "metadata": {},
   "source": [
    "# Derive Initial Velocity from Total Energy"
   ]
  },
  {
   "cell_type": "code",
   "execution_count": 1,
   "id": "a89a865e-79f5-489c-9cd3-8c90868fe485",
   "metadata": {},
   "outputs": [],
   "source": [
    "%matplotlib widget\n",
    "import numpy as np\n",
    "import matplotlib.pyplot as plt\n",
    "from IPython.display import HTML"
   ]
  },
  {
   "cell_type": "code",
   "execution_count": 2,
   "id": "15ae3a00-11d4-4141-a499-46a71d1a9fda",
   "metadata": {},
   "outputs": [],
   "source": [
    "from smbbh_nu import SMBBH_NU\n",
    "from plot_process import Plot_Result"
   ]
  },
  {
   "cell_type": "markdown",
   "id": "c99276db-99e2-421e-b2af-ef1406e791f2",
   "metadata": {},
   "source": [
    "## 0. Parameters"
   ]
  },
  {
   "cell_type": "code",
   "execution_count": 3,
   "id": "80ae9c3c-5a80-4a9e-b369-51b96dc0eff3",
   "metadata": {},
   "outputs": [],
   "source": [
    "# Mass:\n",
    "m1, m2 = 0.5, 0.5\n",
    "mass_sum = m1 + m2\n",
    "black_hole_mass = [m1, m2]\n",
    "\n",
    "# Radius:\n",
    "radius = 2\n",
    "r1, r2 = radius*0.5, radius*0.5\n",
    "\n",
    "# Eccentricity:\n",
    "e = 0.0\n",
    "\n",
    "# Time range:\n",
    "t0, tf = 0, 50\n",
    "\n",
    "# 3D Rotation:\n",
    "angles = [np.pi/6, np.pi/4, np.pi/6]  # omega, I, Omega"
   ]
  },
  {
   "cell_type": "code",
   "execution_count": 4,
   "id": "1b2454c1-db65-4bc6-88b3-187b0ec69453",
   "metadata": {},
   "outputs": [],
   "source": [
    "# Galaxical Potential:\n",
    "def potential(constant_c, comp_vector, r):\n",
    "    c_term = (constant_c*comp_vector) / r\n",
    "    first_term = 1/(r + r**3)\n",
    "    second_term = np.arctan(r)/(r**2)\n",
    "    V = c_term*(first_term - second_term)\n",
    "    return V"
   ]
  },
  {
   "cell_type": "code",
   "execution_count": null,
   "id": "7bcd2a03-319c-4373-9784-e597db9230c9",
   "metadata": {},
   "outputs": [],
   "source": []
  },
  {
   "cell_type": "markdown",
   "id": "db6f09e8-cc62-403d-b36d-e10bbe5015aa",
   "metadata": {},
   "source": [
    "## 1. $c=0$"
   ]
  },
  {
   "cell_type": "markdown",
   "id": "eb0b3d86-e647-4459-959b-35dd913b63b3",
   "metadata": {},
   "source": [
    "$c = \\frac{2}{\\pi}M_{g}$  "
   ]
  },
  {
   "cell_type": "code",
   "execution_count": 5,
   "id": "409c0b61-f77c-4397-be22-53043e1b683d",
   "metadata": {},
   "outputs": [],
   "source": [
    "c = 0\n"
   ]
  },
  {
   "cell_type": "markdown",
   "id": "01978c26-ea34-4558-8542-7e01196b9011",
   "metadata": {},
   "source": [
    "### 1-1. $E_{total}=0$"
   ]
  },
  {
   "cell_type": "markdown",
   "id": "3f8fc282-782c-4b54-b85f-f6eb54e2a26e",
   "metadata": {},
   "source": [
    "$E_{i} = \\frac{1}{2}(u_{i}^{2} + v_{i}^{2} + w_{i}^{2}) - \\frac{m_{j}^{3}}{r_{i}(m_{1} + m_{2})^{2}} - c\\frac{\\arctan{(r_{i})}}{r_{i}}, i\\neq j.$   $ i, j \\in \\{ 1, 2 \\}$  "
   ]
  },
  {
   "cell_type": "markdown",
   "id": "f4209928-6443-48b6-bdfc-e0df8aa554b8",
   "metadata": {},
   "source": [
    "$E_{total}=E_{1} + E_{2}$  "
   ]
  },
  {
   "cell_type": "code",
   "execution_count": 6,
   "id": "66f6b8ed-e106-4439-a228-8ec9b6d02277",
   "metadata": {},
   "outputs": [],
   "source": [
    "# E total:\n",
    "egy_total = 0\n",
    "\n",
    "# E1, E2:\n",
    "egy_1 = egy_total*0.5\n",
    "egy_2 = egy_total*0.5\n"
   ]
  },
  {
   "cell_type": "markdown",
   "id": "8d2028d0-8ff3-419d-8337-cf70fa92dc40",
   "metadata": {},
   "source": [
    "### 1-2. Initial Velocity"
   ]
  },
  {
   "cell_type": "markdown",
   "id": "86449e45-36ba-472f-a693-4cc419034629",
   "metadata": {},
   "source": [
    "$V_{i}=\\sqrt{u_{i}^{2} + v_{i}^{2} + w_{i}^{2}} = \\sqrt{2(E_{i} + \\frac{m_{j}^{3}}{r_{i}(m_{1} + m_{2})^{2}} + c\\frac{\\arctan{(r_{i})}}{r_{i}})}$"
   ]
  },
  {
   "cell_type": "code",
   "execution_count": 7,
   "id": "f7b87643-2d3b-4895-9492-8d984c280157",
   "metadata": {},
   "outputs": [
    {
     "name": "stdout",
     "output_type": "stream",
     "text": [
      "P1 initial velocity : 0.5\n",
      "P2 initial velocity : 0.5\n"
     ]
    }
   ],
   "source": [
    "p1_v0 = np.sqrt( 2*( egy_1 + (m2**3/(r1*mass_sum**2)) + c*(np.arctan(r1))/r1 ) )\n",
    "p2_v0 = np.sqrt( 2*( egy_2 + (m1**3/(r1*mass_sum**2)) + c*(np.arctan(r2))/r2 ) )\n",
    "\n",
    "print(f\"P1 initial velocity : {p1_v0}\")\n",
    "print(f\"P2 initial velocity : {p2_v0}\")"
   ]
  },
  {
   "cell_type": "markdown",
   "id": "4c7ff975-e82f-4a74-97b9-46735cd6cd78",
   "metadata": {},
   "source": [
    "### 1-3. Run the Test"
   ]
  },
  {
   "cell_type": "code",
   "execution_count": 8,
   "id": "4db52a97-4e3f-4cb3-a5cd-ba629223e934",
   "metadata": {},
   "outputs": [],
   "source": [
    "case_1 = SMBBH_NU(black_hole_mass,\n",
    "                  t0=t0,\n",
    "                  tf=tf,\n",
    "                  constant_c=c,\n",
    "                  radius=radius,\n",
    "                  eccentricity=e,\n",
    "                  angles=angles,\n",
    "                  potential_function=potential)"
   ]
  },
  {
   "cell_type": "code",
   "execution_count": 9,
   "id": "4732b38a-cecb-4dac-9fb7-6fe3b6892956",
   "metadata": {},
   "outputs": [
    {
     "name": "stdout",
     "output_type": "stream",
     "text": [
      "P1 original velocity : [0.  0.5 0. ]\n",
      "P2 original velocity : [ 0.  -0.5  0. ]\n"
     ]
    }
   ],
   "source": [
    "# Show original initial velocity:\n",
    "vo1_0 = case_1.v1_0\n",
    "vo2_0 = case_1.v2_0\n",
    "\n",
    "print(f\"P1 original velocity : {vo1_0}\")\n",
    "print(f\"P2 original velocity : {vo2_0}\")"
   ]
  },
  {
   "cell_type": "code",
   "execution_count": 10,
   "id": "68af84cd-eee0-4611-a62c-a2b96b0c866f",
   "metadata": {},
   "outputs": [
    {
     "name": "stdout",
     "output_type": "stream",
     "text": [
      "P1 initial velocity : [0.  0.5 0. ]\n",
      "P2 initial velocity : [ 0.  -0.5  0. ]\n"
     ]
    }
   ],
   "source": [
    "# Set new initial velocity:\n",
    "case_1.v1_0 = np.array([0.0, p1_v0, 0.0])\n",
    "case_1.v2_0 = np.array([0.0, -p2_v0, 0.0])\n",
    "\n",
    "\n",
    "print(f\"P1 initial velocity : {case_1.v1_0}\")\n",
    "print(f\"P2 initial velocity : {case_1.v2_0}\")"
   ]
  },
  {
   "cell_type": "code",
   "execution_count": 11,
   "id": "4e6f77e0-86a6-4a17-8b76-243377015b53",
   "metadata": {},
   "outputs": [
    {
     "name": "stdout",
     "output_type": "stream",
     "text": [
      "no_rot_data\n",
      "rot_data\n",
      "no_rot_energy\n",
      "no_rot_energy0\n",
      "rot_energy\n",
      "rot_energy0\n"
     ]
    }
   ],
   "source": [
    "# run\n",
    "case_1_dict = case_1.run()\n",
    "for key in case_1_dict.keys():\n",
    "    print(key)"
   ]
  },
  {
   "cell_type": "markdown",
   "id": "d5e00286-c6dd-4b8f-b96c-9a1270050036",
   "metadata": {},
   "source": [
    "### 1-4. Plot"
   ]
  },
  {
   "cell_type": "code",
   "execution_count": null,
   "id": "1087a7b7-efa8-4795-bf07-cc0e40028e25",
   "metadata": {},
   "outputs": [],
   "source": []
  }
 ],
 "metadata": {
  "kernelspec": {
   "display_name": "Python 3 (ipykernel)",
   "language": "python",
   "name": "python3"
  },
  "language_info": {
   "codemirror_mode": {
    "name": "ipython",
    "version": 3
   },
   "file_extension": ".py",
   "mimetype": "text/x-python",
   "name": "python",
   "nbconvert_exporter": "python",
   "pygments_lexer": "ipython3",
   "version": "3.8.13"
  }
 },
 "nbformat": 4,
 "nbformat_minor": 5
}
